{
  "nbformat": 4,
  "nbformat_minor": 0,
  "metadata": {
    "colab": {
      "provenance": []
    },
    "kernelspec": {
      "name": "python3",
      "display_name": "Python 3"
    },
    "language_info": {
      "name": "python"
    }
  },
  "cells": [
    {
      "cell_type": "code",
      "execution_count": 209,
      "metadata": {
        "id": "5hpJK6goq1bR"
      },
      "outputs": [],
      "source": [
        "import numpy as np\n",
        "import pandas as pd"
      ]
    },
    {
      "cell_type": "code",
      "source": [
        "df = pd.DataFrame([[8,8,4],[7,9,5],[6,10,6],[5,12,7]],columns=['cgpa','iq','lpa'])"
      ],
      "metadata": {
        "id": "WwpExBh1ro9E"
      },
      "execution_count": 210,
      "outputs": []
    },
    {
      "cell_type": "code",
      "source": [
        "df.head()"
      ],
      "metadata": {
        "colab": {
          "base_uri": "https://localhost:8080/",
          "height": 174
        },
        "id": "ZWquf4xZsBSO",
        "outputId": "8a9244d9-9b79-49c7-8cda-12d8ad0bedf8"
      },
      "execution_count": 211,
      "outputs": [
        {
          "output_type": "execute_result",
          "data": {
            "text/plain": [
              "   cgpa  iq  lpa\n",
              "0     8   8    4\n",
              "1     7   9    5\n",
              "2     6  10    6\n",
              "3     5  12    7"
            ],
            "text/html": [
              "\n",
              "  <div id=\"df-6f648be0-c518-4f04-9b4c-bb138c050c43\" class=\"colab-df-container\">\n",
              "    <div>\n",
              "<style scoped>\n",
              "    .dataframe tbody tr th:only-of-type {\n",
              "        vertical-align: middle;\n",
              "    }\n",
              "\n",
              "    .dataframe tbody tr th {\n",
              "        vertical-align: top;\n",
              "    }\n",
              "\n",
              "    .dataframe thead th {\n",
              "        text-align: right;\n",
              "    }\n",
              "</style>\n",
              "<table border=\"1\" class=\"dataframe\">\n",
              "  <thead>\n",
              "    <tr style=\"text-align: right;\">\n",
              "      <th></th>\n",
              "      <th>cgpa</th>\n",
              "      <th>iq</th>\n",
              "      <th>lpa</th>\n",
              "    </tr>\n",
              "  </thead>\n",
              "  <tbody>\n",
              "    <tr>\n",
              "      <th>0</th>\n",
              "      <td>8</td>\n",
              "      <td>8</td>\n",
              "      <td>4</td>\n",
              "    </tr>\n",
              "    <tr>\n",
              "      <th>1</th>\n",
              "      <td>7</td>\n",
              "      <td>9</td>\n",
              "      <td>5</td>\n",
              "    </tr>\n",
              "    <tr>\n",
              "      <th>2</th>\n",
              "      <td>6</td>\n",
              "      <td>10</td>\n",
              "      <td>6</td>\n",
              "    </tr>\n",
              "    <tr>\n",
              "      <th>3</th>\n",
              "      <td>5</td>\n",
              "      <td>12</td>\n",
              "      <td>7</td>\n",
              "    </tr>\n",
              "  </tbody>\n",
              "</table>\n",
              "</div>\n",
              "    <div class=\"colab-df-buttons\">\n",
              "\n",
              "  <div class=\"colab-df-container\">\n",
              "    <button class=\"colab-df-convert\" onclick=\"convertToInteractive('df-6f648be0-c518-4f04-9b4c-bb138c050c43')\"\n",
              "            title=\"Convert this dataframe to an interactive table.\"\n",
              "            style=\"display:none;\">\n",
              "\n",
              "  <svg xmlns=\"http://www.w3.org/2000/svg\" height=\"24px\" viewBox=\"0 -960 960 960\">\n",
              "    <path d=\"M120-120v-720h720v720H120Zm60-500h600v-160H180v160Zm220 220h160v-160H400v160Zm0 220h160v-160H400v160ZM180-400h160v-160H180v160Zm440 0h160v-160H620v160ZM180-180h160v-160H180v160Zm440 0h160v-160H620v160Z\"/>\n",
              "  </svg>\n",
              "    </button>\n",
              "\n",
              "  <style>\n",
              "    .colab-df-container {\n",
              "      display:flex;\n",
              "      gap: 12px;\n",
              "    }\n",
              "\n",
              "    .colab-df-convert {\n",
              "      background-color: #E8F0FE;\n",
              "      border: none;\n",
              "      border-radius: 50%;\n",
              "      cursor: pointer;\n",
              "      display: none;\n",
              "      fill: #1967D2;\n",
              "      height: 32px;\n",
              "      padding: 0 0 0 0;\n",
              "      width: 32px;\n",
              "    }\n",
              "\n",
              "    .colab-df-convert:hover {\n",
              "      background-color: #E2EBFA;\n",
              "      box-shadow: 0px 1px 2px rgba(60, 64, 67, 0.3), 0px 1px 3px 1px rgba(60, 64, 67, 0.15);\n",
              "      fill: #174EA6;\n",
              "    }\n",
              "\n",
              "    .colab-df-buttons div {\n",
              "      margin-bottom: 4px;\n",
              "    }\n",
              "\n",
              "    [theme=dark] .colab-df-convert {\n",
              "      background-color: #3B4455;\n",
              "      fill: #D2E3FC;\n",
              "    }\n",
              "\n",
              "    [theme=dark] .colab-df-convert:hover {\n",
              "      background-color: #434B5C;\n",
              "      box-shadow: 0px 1px 3px 1px rgba(0, 0, 0, 0.15);\n",
              "      filter: drop-shadow(0px 1px 2px rgba(0, 0, 0, 0.3));\n",
              "      fill: #FFFFFF;\n",
              "    }\n",
              "  </style>\n",
              "\n",
              "    <script>\n",
              "      const buttonEl =\n",
              "        document.querySelector('#df-6f648be0-c518-4f04-9b4c-bb138c050c43 button.colab-df-convert');\n",
              "      buttonEl.style.display =\n",
              "        google.colab.kernel.accessAllowed ? 'block' : 'none';\n",
              "\n",
              "      async function convertToInteractive(key) {\n",
              "        const element = document.querySelector('#df-6f648be0-c518-4f04-9b4c-bb138c050c43');\n",
              "        const dataTable =\n",
              "          await google.colab.kernel.invokeFunction('convertToInteractive',\n",
              "                                                    [key], {});\n",
              "        if (!dataTable) return;\n",
              "\n",
              "        const docLinkHtml = 'Like what you see? Visit the ' +\n",
              "          '<a target=\"_blank\" href=https://colab.research.google.com/notebooks/data_table.ipynb>data table notebook</a>'\n",
              "          + ' to learn more about interactive tables.';\n",
              "        element.innerHTML = '';\n",
              "        dataTable['output_type'] = 'display_data';\n",
              "        await google.colab.output.renderOutput(dataTable, element);\n",
              "        const docLink = document.createElement('div');\n",
              "        docLink.innerHTML = docLinkHtml;\n",
              "        element.appendChild(docLink);\n",
              "      }\n",
              "    </script>\n",
              "  </div>\n",
              "\n",
              "\n",
              "<div id=\"df-6d3ef095-3af5-464f-8855-5857fc39d582\">\n",
              "  <button class=\"colab-df-quickchart\" onclick=\"quickchart('df-6d3ef095-3af5-464f-8855-5857fc39d582')\"\n",
              "            title=\"Suggest charts.\"\n",
              "            style=\"display:none;\">\n",
              "\n",
              "<svg xmlns=\"http://www.w3.org/2000/svg\" height=\"24px\"viewBox=\"0 0 24 24\"\n",
              "     width=\"24px\">\n",
              "    <g>\n",
              "        <path d=\"M19 3H5c-1.1 0-2 .9-2 2v14c0 1.1.9 2 2 2h14c1.1 0 2-.9 2-2V5c0-1.1-.9-2-2-2zM9 17H7v-7h2v7zm4 0h-2V7h2v10zm4 0h-2v-4h2v4z\"/>\n",
              "    </g>\n",
              "</svg>\n",
              "  </button>\n",
              "\n",
              "<style>\n",
              "  .colab-df-quickchart {\n",
              "      --bg-color: #E8F0FE;\n",
              "      --fill-color: #1967D2;\n",
              "      --hover-bg-color: #E2EBFA;\n",
              "      --hover-fill-color: #174EA6;\n",
              "      --disabled-fill-color: #AAA;\n",
              "      --disabled-bg-color: #DDD;\n",
              "  }\n",
              "\n",
              "  [theme=dark] .colab-df-quickchart {\n",
              "      --bg-color: #3B4455;\n",
              "      --fill-color: #D2E3FC;\n",
              "      --hover-bg-color: #434B5C;\n",
              "      --hover-fill-color: #FFFFFF;\n",
              "      --disabled-bg-color: #3B4455;\n",
              "      --disabled-fill-color: #666;\n",
              "  }\n",
              "\n",
              "  .colab-df-quickchart {\n",
              "    background-color: var(--bg-color);\n",
              "    border: none;\n",
              "    border-radius: 50%;\n",
              "    cursor: pointer;\n",
              "    display: none;\n",
              "    fill: var(--fill-color);\n",
              "    height: 32px;\n",
              "    padding: 0;\n",
              "    width: 32px;\n",
              "  }\n",
              "\n",
              "  .colab-df-quickchart:hover {\n",
              "    background-color: var(--hover-bg-color);\n",
              "    box-shadow: 0 1px 2px rgba(60, 64, 67, 0.3), 0 1px 3px 1px rgba(60, 64, 67, 0.15);\n",
              "    fill: var(--button-hover-fill-color);\n",
              "  }\n",
              "\n",
              "  .colab-df-quickchart-complete:disabled,\n",
              "  .colab-df-quickchart-complete:disabled:hover {\n",
              "    background-color: var(--disabled-bg-color);\n",
              "    fill: var(--disabled-fill-color);\n",
              "    box-shadow: none;\n",
              "  }\n",
              "\n",
              "  .colab-df-spinner {\n",
              "    border: 2px solid var(--fill-color);\n",
              "    border-color: transparent;\n",
              "    border-bottom-color: var(--fill-color);\n",
              "    animation:\n",
              "      spin 1s steps(1) infinite;\n",
              "  }\n",
              "\n",
              "  @keyframes spin {\n",
              "    0% {\n",
              "      border-color: transparent;\n",
              "      border-bottom-color: var(--fill-color);\n",
              "      border-left-color: var(--fill-color);\n",
              "    }\n",
              "    20% {\n",
              "      border-color: transparent;\n",
              "      border-left-color: var(--fill-color);\n",
              "      border-top-color: var(--fill-color);\n",
              "    }\n",
              "    30% {\n",
              "      border-color: transparent;\n",
              "      border-left-color: var(--fill-color);\n",
              "      border-top-color: var(--fill-color);\n",
              "      border-right-color: var(--fill-color);\n",
              "    }\n",
              "    40% {\n",
              "      border-color: transparent;\n",
              "      border-right-color: var(--fill-color);\n",
              "      border-top-color: var(--fill-color);\n",
              "    }\n",
              "    60% {\n",
              "      border-color: transparent;\n",
              "      border-right-color: var(--fill-color);\n",
              "    }\n",
              "    80% {\n",
              "      border-color: transparent;\n",
              "      border-right-color: var(--fill-color);\n",
              "      border-bottom-color: var(--fill-color);\n",
              "    }\n",
              "    90% {\n",
              "      border-color: transparent;\n",
              "      border-bottom-color: var(--fill-color);\n",
              "    }\n",
              "  }\n",
              "</style>\n",
              "\n",
              "  <script>\n",
              "    async function quickchart(key) {\n",
              "      const quickchartButtonEl =\n",
              "        document.querySelector('#' + key + ' button');\n",
              "      quickchartButtonEl.disabled = true;  // To prevent multiple clicks.\n",
              "      quickchartButtonEl.classList.add('colab-df-spinner');\n",
              "      try {\n",
              "        const charts = await google.colab.kernel.invokeFunction(\n",
              "            'suggestCharts', [key], {});\n",
              "      } catch (error) {\n",
              "        console.error('Error during call to suggestCharts:', error);\n",
              "      }\n",
              "      quickchartButtonEl.classList.remove('colab-df-spinner');\n",
              "      quickchartButtonEl.classList.add('colab-df-quickchart-complete');\n",
              "    }\n",
              "    (() => {\n",
              "      let quickchartButtonEl =\n",
              "        document.querySelector('#df-6d3ef095-3af5-464f-8855-5857fc39d582 button');\n",
              "      quickchartButtonEl.style.display =\n",
              "        google.colab.kernel.accessAllowed ? 'block' : 'none';\n",
              "    })();\n",
              "  </script>\n",
              "</div>\n",
              "    </div>\n",
              "  </div>\n"
            ]
          },
          "metadata": {},
          "execution_count": 211
        }
      ]
    },
    {
      "cell_type": "code",
      "source": [
        "def ini_weights(layer_dim):\n",
        "  parameters = {}\n",
        "  L = len(layer_dim)\n",
        "\n",
        "  for i in range(1,L):\n",
        "    parameters['W' + str(i)] = np.ones((layer_dim[i-1],layer_dim[i]))*0.1\n",
        "    parameters['b' + str(i)] = np.zeros((layer_dim[i],1))\n",
        "\n",
        "  return parameters"
      ],
      "metadata": {
        "id": "DdQN7-v1sMzi"
      },
      "execution_count": 168,
      "outputs": []
    },
    {
      "cell_type": "code",
      "source": [
        "ini_weights([2,2,1])"
      ],
      "metadata": {
        "colab": {
          "base_uri": "https://localhost:8080/"
        },
        "id": "NOEBX6FHuvQi",
        "outputId": "69dd7c90-f284-45ba-adeb-cc4521430535"
      },
      "execution_count": 169,
      "outputs": [
        {
          "output_type": "execute_result",
          "data": {
            "text/plain": [
              "{'W1': array([[0.1, 0.1],\n",
              "        [0.1, 0.1]]),\n",
              " 'b1': array([[0.],\n",
              "        [0.]]),\n",
              " 'W2': array([[0.1],\n",
              "        [0.1]]),\n",
              " 'b2': array([[0.]])}"
            ]
          },
          "metadata": {},
          "execution_count": 169
        }
      ]
    },
    {
      "cell_type": "code",
      "source": [
        "def linear_forward(W,A_prev,b):\n",
        "\n",
        "  Z = np.dot(W.T,A_prev) + b\n",
        "\n",
        "  return Z"
      ],
      "metadata": {
        "id": "9Q_ifw-RuzNT"
      },
      "execution_count": 170,
      "outputs": []
    },
    {
      "cell_type": "code",
      "source": [
        "def update_weights(parameters,y,y_hat,A1,X):\n",
        "\n",
        "  parameters['W2'][0][0] = parameters['W1'][0][0] + (0.001 * 2 * (y-y_hat) * A1[0][0])\n",
        "  parameters['W2'][1][0] = parameters['W2'][1][0] + (0.001 * 2 * (y-y_hat) * A1[1][0])\n",
        "  parameters['b2'][0][0] = parameters['b2'][0][0] + (0.001 * 2 * (y-y_hat))\n",
        "\n",
        "  parameters['W1'][0][0] = parameters['W1'][0][0] + (0.001 * 2 * (y-y_hat) * parameters['W2'][0][0] * X[0][0])\n",
        "  parameters['W1'][0][1] = parameters['W1'][0][1] + (0.001 * 2 * (y-y_hat) * parameters['W2'][0][0] * X[1][0])\n",
        "  parameters['b1'][0][0] = parameters['b1'][0][0] + (0.001 * 2 * (y-y_hat) * parameters['W2'][0][0])\n",
        "\n",
        "  parameters['W1'][1][0] = parameters['W1'][1][0] + (0.001 * 2 * (y-y_hat) * parameters['W2'][1][0] * X[0][0])\n",
        "  parameters['W1'][1][1] = parameters['W1'][1][1] + (0.001 * 2 * (y-y_hat) * parameters['W2'][1][0] * X[1][0])\n",
        "  parameters['b1'][1][0] = parameters['b1'][1][0] + (0.001 * 2 * (y-y_hat) * parameters['W2'][1][0])\n",
        "\n"
      ],
      "metadata": {
        "id": "eoHoVgcb2yDV"
      },
      "execution_count": 222,
      "outputs": []
    },
    {
      "cell_type": "code",
      "source": [
        "def forward_prop(X,parameters):\n",
        "  A = X;\n",
        "  l = len(parameters) // 2\n",
        "\n",
        "  for i in range (1,l+1):\n",
        "    A_prev = A\n",
        "    wl = parameters['W' + str(i)]\n",
        "    bl = parameters['b' + str(i)]\n",
        "\n",
        "    A = linear_forward(wl,A_prev,bl)\n",
        "\n",
        "  return A,A_prev\n"
      ],
      "metadata": {
        "id": "4f2ZnF9D4gtC"
      },
      "execution_count": 223,
      "outputs": []
    },
    {
      "cell_type": "code",
      "source": [
        "X = df[['cgpa', 'iq']].values[0].reshape(2,1) # Shape(no of features, no. of training example)  2 x 1 matrix is formed\n",
        "y = df[['lpa']].values[0][0]\n",
        "\n",
        "# Parameter initialization\n",
        "parameters = ini_weights([2,2,1])\n",
        "\n",
        "y_hat,A1 = forward_prop(X, parameters)"
      ],
      "metadata": {
        "id": "yzZRDi2G_iTD"
      },
      "execution_count": 224,
      "outputs": []
    },
    {
      "cell_type": "code",
      "source": [
        "y_hat = y_hat[0][0]"
      ],
      "metadata": {
        "id": "L68yrUi0_rwr"
      },
      "execution_count": 225,
      "outputs": []
    },
    {
      "cell_type": "code",
      "source": [
        "update_weights(parameters,y,y_hat,A1,X)"
      ],
      "metadata": {
        "id": "iV3Lc3L-DTGt"
      },
      "execution_count": 226,
      "outputs": []
    },
    {
      "cell_type": "code",
      "source": [
        "y_hat"
      ],
      "metadata": {
        "colab": {
          "base_uri": "https://localhost:8080/"
        },
        "id": "l97vKNVeDxDz",
        "outputId": "7de5dff4-2c9c-4493-af02-cbeef11d1b15"
      },
      "execution_count": 227,
      "outputs": [
        {
          "output_type": "execute_result",
          "data": {
            "text/plain": [
              "0.32000000000000006"
            ]
          },
          "metadata": {},
          "execution_count": 227
        }
      ]
    },
    {
      "cell_type": "code",
      "source": [
        "X = df[['cgpa', 'iq']].values[0].reshape(2,1) # Shape(no of features, no. of training example)\n",
        "y = df[['lpa']].values[0][0]\n",
        "\n",
        "# Parameter initialization\n",
        "parameters = ini_weights([2,2,1])\n",
        "\n",
        "y_hat,A1 = forward_prop(X,parameters)\n",
        "y_hat = y_hat[0][0]\n",
        "\n",
        "update_weights(parameters,y,y_hat,A1,X)\n",
        "\n",
        "parameters"
      ],
      "metadata": {
        "colab": {
          "base_uri": "https://localhost:8080/"
        },
        "id": "xOiiCOUOD57_",
        "outputId": "9e78d3fa-976a-45e4-9035-4dfca263b423"
      },
      "execution_count": 228,
      "outputs": [
        {
          "output_type": "execute_result",
          "data": {
            "text/plain": [
              "{'W1': array([[0.10658137, 0.10658137],\n",
              "        [0.10658137, 0.10658137]]),\n",
              " 'b1': array([[0.00082267],\n",
              "        [0.00082267]]),\n",
              " 'W2': array([[0.111776],\n",
              "        [0.111776]]),\n",
              " 'b2': array([[0.00736]])}"
            ]
          },
          "metadata": {},
          "execution_count": 228
        }
      ]
    },
    {
      "cell_type": "code",
      "source": [
        "X = df[['cgpa', 'iq']].values[1].reshape(2,1) # Shape(no of features, no. of training example)\n",
        "y = df[['lpa']].values[1][0]\n",
        "\n",
        "# Parameter initialization\n",
        "\n",
        "y_hat,A1 = forward_prop(X,parameters)\n",
        "y_hat = y_hat[0][0]\n",
        "\n",
        "update_weights(parameters,y,y_hat,A1,X)\n",
        "\n",
        "parameters\n"
      ],
      "metadata": {
        "colab": {
          "base_uri": "https://localhost:8080/"
        },
        "id": "vCiZR21mE3N2",
        "outputId": "ed6bc33e-09c0-4786-d630-f9d90dae5d9e"
      },
      "execution_count": 229,
      "outputs": [
        {
          "output_type": "execute_result",
          "data": {
            "text/plain": [
              "{'W1': array([[0.11447776, 0.11673387],\n",
              "        [0.11481311, 0.11716504]]),\n",
              " 'b1': array([[0.00195073],\n",
              "        [0.00199863]]),\n",
              " 'W2': array([[0.12231605],\n",
              "        [0.12751067]]),\n",
              " 'b2': array([[0.01658246]])}"
            ]
          },
          "metadata": {},
          "execution_count": 229
        }
      ]
    },
    {
      "cell_type": "code",
      "source": [
        "X = df[['cgpa', 'iq']].values[2].reshape(2,1) # Shape(no of features, no. of training example)\n",
        "y = df[['lpa']].values[2][0]\n",
        "\n",
        "# Parameter initialization\n",
        "\n",
        "\n",
        "y_hat,A1 = forward_prop(X,parameters)\n",
        "y_hat = y_hat[0][0]\n",
        "\n",
        "update_weights(parameters,y,y_hat,A1,X)\n",
        "\n",
        "parameters"
      ],
      "metadata": {
        "colab": {
          "base_uri": "https://localhost:8080/"
        },
        "id": "p_vF9DjYFFBt",
        "outputId": "515330e5-54ef-403f-f512-a5e076782e0f"
      },
      "execution_count": 230,
      "outputs": [
        {
          "output_type": "execute_result",
          "data": {
            "text/plain": [
              "{'W1': array([[0.12340367, 0.1316104 ],\n",
              "        [0.12462942, 0.13352555]]),\n",
              " 'b1': array([[0.00343838],\n",
              "        [0.00363469]]),\n",
              " 'W2': array([[0.13475682],\n",
              "        [0.14819934]]),\n",
              " 'b2': array([[0.027622]])}"
            ]
          },
          "metadata": {},
          "execution_count": 230
        }
      ]
    },
    {
      "cell_type": "code",
      "source": [
        "X = df[['cgpa', 'iq']].values[3].reshape(2,1) # Shape(no of features, no. of training example)\n",
        "y = df[['lpa']].values[3][0]\n",
        "\n",
        "# Parameter initializatio\n",
        "\n",
        "y_hat,A1 = forward_prop(X,parameters)\n",
        "y_hat = y_hat[0][0]\n",
        "\n",
        "update_weights(parameters,y,y_hat,A1,X)\n",
        "\n",
        "parameters"
      ],
      "metadata": {
        "colab": {
          "base_uri": "https://localhost:8080/"
        },
        "id": "LLud5f42FHBG",
        "outputId": "c97f2ce2-89dc-4ef3-c160-02e343c47e4a"
      },
      "execution_count": 231,
      "outputs": [
        {
          "output_type": "execute_result",
          "data": {
            "text/plain": [
              "{'W1': array([[0.13294929, 0.15451988],\n",
              "        [0.13586939, 0.16050148]]),\n",
              " 'b1': array([[0.0053475 ],\n",
              "        [0.00588268]]),\n",
              " 'W2': array([[0.15028423],\n",
              "        [0.17695979]]),\n",
              " 'b2': array([[0.04032542]])}"
            ]
          },
          "metadata": {},
          "execution_count": 231
        }
      ]
    },
    {
      "cell_type": "code",
      "source": [
        "parameters = ini_weights([2,2,1])\n",
        "epochs = 5\n",
        "\n",
        "for i in range(epochs) :\n",
        "\n",
        "  Loss = []\n",
        "\n",
        "  for j in range(df.shape[0]):\n",
        "    X = df[['cgpa', 'iq']].values[j].reshape(2,1) # Shape(no of features, no. of training example)\n",
        "    y = df[['lpa']].values[j][0]\n",
        "    y_hat,A1 = forward_prop(X,parameters)\n",
        "    y_hat = y_hat[0][0]\n",
        "\n",
        "    update_weights(parameters,y,y_hat,A1,X)\n",
        "\n",
        "    Loss.append((y-y_hat)**2)\n",
        "\n",
        "  print('Epoch- ', i+1,'Loss - ',np.array(Loss).mean())\n",
        "\n",
        "parameters"
      ],
      "metadata": {
        "colab": {
          "base_uri": "https://localhost:8080/"
        },
        "id": "hENdNcYgFJIV",
        "outputId": "bc55a346-b13f-4517-ac05-a9da95515f9f"
      },
      "execution_count": 232,
      "outputs": [
        {
          "output_type": "stream",
          "name": "stdout",
          "text": [
            "Epoch-  1 Loss -  26.40447639468825\n",
            "Epoch-  2 Loss -  20.597743519206634\n",
            "Epoch-  3 Loss -  12.395419753977446\n",
            "Epoch-  4 Loss -  5.153048486962302\n",
            "Epoch-  5 Loss -  1.7755704750719727\n"
          ]
        },
        {
          "output_type": "execute_result",
          "data": {
            "text/plain": [
              "{'W1': array([[0.24274649, 0.33978913],\n",
              "        [0.32184489, 0.47836033]]),\n",
              " 'b1': array([[0.02337812],\n",
              "        [0.03664327]]),\n",
              " 'W2': array([[0.25671798],\n",
              "        [0.55356468]]),\n",
              " 'b2': array([[0.1291338]])}"
            ]
          },
          "metadata": {},
          "execution_count": 232
        }
      ]
    },
    {
      "cell_type": "code",
      "source": [
        "import tensorflow\n",
        "from tensorflow import keras\n",
        "from keras import Sequential\n",
        "from keras.layers import Dense"
      ],
      "metadata": {
        "id": "e8Gfjj4VFt4_"
      },
      "execution_count": 212,
      "outputs": []
    },
    {
      "cell_type": "code",
      "source": [
        "model = Sequential()\n",
        "\n",
        "model.add(Dense(2,activation = 'linear',input_dim = 2))\n",
        "model.add(Dense(1,activation = 'linear'))"
      ],
      "metadata": {
        "id": "5ek24JAxLtGv"
      },
      "execution_count": 213,
      "outputs": []
    },
    {
      "cell_type": "code",
      "source": [
        "model.summary()"
      ],
      "metadata": {
        "colab": {
          "base_uri": "https://localhost:8080/"
        },
        "id": "TR_9NXm7L8ch",
        "outputId": "b90e0005-10ed-449c-e81e-7615dc817424"
      },
      "execution_count": 214,
      "outputs": [
        {
          "output_type": "stream",
          "name": "stdout",
          "text": [
            "Model: \"sequential_2\"\n",
            "_________________________________________________________________\n",
            " Layer (type)                Output Shape              Param #   \n",
            "=================================================================\n",
            " dense_4 (Dense)             (None, 2)                 6         \n",
            "                                                                 \n",
            " dense_5 (Dense)             (None, 1)                 3         \n",
            "                                                                 \n",
            "=================================================================\n",
            "Total params: 9 (36.00 Byte)\n",
            "Trainable params: 9 (36.00 Byte)\n",
            "Non-trainable params: 0 (0.00 Byte)\n",
            "_________________________________________________________________\n"
          ]
        }
      ]
    },
    {
      "cell_type": "code",
      "source": [
        "model.get_weights()"
      ],
      "metadata": {
        "colab": {
          "base_uri": "https://localhost:8080/"
        },
        "id": "mnfzDu-kL-jf",
        "outputId": "458c4211-c4a9-4876-beb6-b2ccd167753e"
      },
      "execution_count": 215,
      "outputs": [
        {
          "output_type": "execute_result",
          "data": {
            "text/plain": [
              "[array([[ 0.5453299 ,  1.1027006 ],\n",
              "        [-0.62780625,  1.0133506 ]], dtype=float32),\n",
              " array([0., 0.], dtype=float32),\n",
              " array([[-0.5950373],\n",
              "        [-1.1010919]], dtype=float32),\n",
              " array([0.], dtype=float32)]"
            ]
          },
          "metadata": {},
          "execution_count": 215
        }
      ]
    },
    {
      "cell_type": "code",
      "source": [
        "new_weights = [np.array([[0.1, 0.1 ],\n",
        "        [0.1, 0.1]], dtype=np.float32),\n",
        " np.array([0., 0.], dtype=np.float32),\n",
        " np.array([[0.1],\n",
        "        [0.1]], dtype=np.float32),\n",
        " np.array([0.], dtype=np.float32)]"
      ],
      "metadata": {
        "id": "oUlLtlNdME9i"
      },
      "execution_count": 216,
      "outputs": []
    },
    {
      "cell_type": "code",
      "source": [
        "model.set_weights(new_weights)"
      ],
      "metadata": {
        "id": "cMMy-6KXMlYK"
      },
      "execution_count": 217,
      "outputs": []
    },
    {
      "cell_type": "code",
      "source": [
        "model.get_weights()"
      ],
      "metadata": {
        "colab": {
          "base_uri": "https://localhost:8080/"
        },
        "id": "36IX6QWTM9wv",
        "outputId": "33c6732d-fa22-474a-c7b8-e9f3cf820599"
      },
      "execution_count": 218,
      "outputs": [
        {
          "output_type": "execute_result",
          "data": {
            "text/plain": [
              "[array([[0.1, 0.1],\n",
              "        [0.1, 0.1]], dtype=float32),\n",
              " array([0., 0.], dtype=float32),\n",
              " array([[0.1],\n",
              "        [0.1]], dtype=float32),\n",
              " array([0.], dtype=float32)]"
            ]
          },
          "metadata": {},
          "execution_count": 218
        }
      ]
    },
    {
      "cell_type": "code",
      "source": [
        "optimizer = keras.optimizers.Adam(learning_rate = 0.001)\n",
        "model.compile(loss = 'mean_squared_error',optimizer = optimizer)"
      ],
      "metadata": {
        "id": "78sP7Av3M_s_"
      },
      "execution_count": 219,
      "outputs": []
    },
    {
      "cell_type": "code",
      "source": [
        "model.fit(df.iloc[:,0:-1].values,df['lpa'].values,epochs=75,verbose = 1,batch_size = 1)"
      ],
      "metadata": {
        "colab": {
          "base_uri": "https://localhost:8080/"
        },
        "id": "Xn7JdNruNLSm",
        "outputId": "49313031-4166-439d-ac05-2c931d6c9500"
      },
      "execution_count": 220,
      "outputs": [
        {
          "output_type": "stream",
          "name": "stdout",
          "text": [
            "Epoch 1/75\n",
            "4/4 [==============================] - 0s 3ms/step - loss: 27.9075\n",
            "Epoch 2/75\n",
            "4/4 [==============================] - 0s 3ms/step - loss: 27.5691\n",
            "Epoch 3/75\n",
            "4/4 [==============================] - 0s 3ms/step - loss: 27.2375\n",
            "Epoch 4/75\n",
            "4/4 [==============================] - 0s 3ms/step - loss: 26.9288\n",
            "Epoch 5/75\n",
            "4/4 [==============================] - 0s 4ms/step - loss: 26.5671\n",
            "Epoch 6/75\n",
            "4/4 [==============================] - 0s 3ms/step - loss: 26.1957\n",
            "Epoch 7/75\n",
            "4/4 [==============================] - 0s 3ms/step - loss: 25.8578\n",
            "Epoch 8/75\n",
            "4/4 [==============================] - 0s 3ms/step - loss: 25.4641\n",
            "Epoch 9/75\n",
            "4/4 [==============================] - 0s 3ms/step - loss: 25.0804\n",
            "Epoch 10/75\n",
            "4/4 [==============================] - 0s 3ms/step - loss: 24.6672\n",
            "Epoch 11/75\n",
            "4/4 [==============================] - 0s 3ms/step - loss: 24.2690\n",
            "Epoch 12/75\n",
            "4/4 [==============================] - 0s 4ms/step - loss: 23.8219\n",
            "Epoch 13/75\n",
            "4/4 [==============================] - 0s 4ms/step - loss: 23.3763\n",
            "Epoch 14/75\n",
            "4/4 [==============================] - 0s 5ms/step - loss: 22.9526\n",
            "Epoch 15/75\n",
            "4/4 [==============================] - 0s 4ms/step - loss: 22.4907\n",
            "Epoch 16/75\n",
            "4/4 [==============================] - 0s 3ms/step - loss: 22.0580\n",
            "Epoch 17/75\n",
            "4/4 [==============================] - 0s 3ms/step - loss: 21.5791\n",
            "Epoch 18/75\n",
            "4/4 [==============================] - 0s 3ms/step - loss: 21.0946\n",
            "Epoch 19/75\n",
            "4/4 [==============================] - 0s 3ms/step - loss: 20.5723\n",
            "Epoch 20/75\n",
            "4/4 [==============================] - 0s 3ms/step - loss: 20.0615\n",
            "Epoch 21/75\n",
            "4/4 [==============================] - 0s 4ms/step - loss: 19.5882\n",
            "Epoch 22/75\n",
            "4/4 [==============================] - 0s 3ms/step - loss: 19.0660\n",
            "Epoch 23/75\n",
            "4/4 [==============================] - 0s 4ms/step - loss: 18.5909\n",
            "Epoch 24/75\n",
            "4/4 [==============================] - 0s 3ms/step - loss: 18.0234\n",
            "Epoch 25/75\n",
            "4/4 [==============================] - 0s 3ms/step - loss: 17.5591\n",
            "Epoch 26/75\n",
            "4/4 [==============================] - 0s 3ms/step - loss: 16.9925\n",
            "Epoch 27/75\n",
            "4/4 [==============================] - 0s 3ms/step - loss: 16.4911\n",
            "Epoch 28/75\n",
            "4/4 [==============================] - 0s 5ms/step - loss: 15.9613\n",
            "Epoch 29/75\n",
            "4/4 [==============================] - 0s 3ms/step - loss: 15.4238\n",
            "Epoch 30/75\n",
            "4/4 [==============================] - 0s 4ms/step - loss: 14.9317\n",
            "Epoch 31/75\n",
            "4/4 [==============================] - 0s 3ms/step - loss: 14.3688\n",
            "Epoch 32/75\n",
            "4/4 [==============================] - 0s 3ms/step - loss: 13.8744\n",
            "Epoch 33/75\n",
            "4/4 [==============================] - 0s 3ms/step - loss: 13.2988\n",
            "Epoch 34/75\n",
            "4/4 [==============================] - 0s 3ms/step - loss: 12.8389\n",
            "Epoch 35/75\n",
            "4/4 [==============================] - 0s 3ms/step - loss: 12.3206\n",
            "Epoch 36/75\n",
            "4/4 [==============================] - 0s 3ms/step - loss: 11.8082\n",
            "Epoch 37/75\n",
            "4/4 [==============================] - 0s 4ms/step - loss: 11.3525\n",
            "Epoch 38/75\n",
            "4/4 [==============================] - 0s 3ms/step - loss: 10.8189\n",
            "Epoch 39/75\n",
            "4/4 [==============================] - 0s 3ms/step - loss: 10.3225\n",
            "Epoch 40/75\n",
            "4/4 [==============================] - 0s 3ms/step - loss: 9.9214\n",
            "Epoch 41/75\n",
            "4/4 [==============================] - 0s 3ms/step - loss: 9.4358\n",
            "Epoch 42/75\n",
            "4/4 [==============================] - 0s 3ms/step - loss: 8.9769\n",
            "Epoch 43/75\n",
            "4/4 [==============================] - 0s 3ms/step - loss: 8.5227\n",
            "Epoch 44/75\n",
            "4/4 [==============================] - 0s 3ms/step - loss: 8.1443\n",
            "Epoch 45/75\n",
            "4/4 [==============================] - 0s 3ms/step - loss: 7.7613\n",
            "Epoch 46/75\n",
            "4/4 [==============================] - 0s 3ms/step - loss: 7.2874\n",
            "Epoch 47/75\n",
            "4/4 [==============================] - 0s 4ms/step - loss: 6.9442\n",
            "Epoch 48/75\n",
            "4/4 [==============================] - 0s 4ms/step - loss: 6.5768\n",
            "Epoch 49/75\n",
            "4/4 [==============================] - 0s 3ms/step - loss: 6.1800\n",
            "Epoch 50/75\n",
            "4/4 [==============================] - 0s 4ms/step - loss: 5.8391\n",
            "Epoch 51/75\n",
            "4/4 [==============================] - 0s 3ms/step - loss: 5.5623\n",
            "Epoch 52/75\n",
            "4/4 [==============================] - 0s 4ms/step - loss: 5.1896\n",
            "Epoch 53/75\n",
            "4/4 [==============================] - 0s 4ms/step - loss: 4.9297\n",
            "Epoch 54/75\n",
            "4/4 [==============================] - 0s 3ms/step - loss: 4.6381\n",
            "Epoch 55/75\n",
            "4/4 [==============================] - 0s 4ms/step - loss: 4.3452\n",
            "Epoch 56/75\n",
            "4/4 [==============================] - 0s 3ms/step - loss: 4.1298\n",
            "Epoch 57/75\n",
            "4/4 [==============================] - 0s 4ms/step - loss: 3.8247\n",
            "Epoch 58/75\n",
            "4/4 [==============================] - 0s 3ms/step - loss: 3.6268\n",
            "Epoch 59/75\n",
            "4/4 [==============================] - 0s 3ms/step - loss: 3.3955\n",
            "Epoch 60/75\n",
            "4/4 [==============================] - 0s 3ms/step - loss: 3.2561\n",
            "Epoch 61/75\n",
            "4/4 [==============================] - 0s 3ms/step - loss: 3.0483\n",
            "Epoch 62/75\n",
            "4/4 [==============================] - 0s 3ms/step - loss: 2.8416\n",
            "Epoch 63/75\n",
            "4/4 [==============================] - 0s 3ms/step - loss: 2.6878\n",
            "Epoch 64/75\n",
            "4/4 [==============================] - 0s 3ms/step - loss: 2.5565\n",
            "Epoch 65/75\n",
            "4/4 [==============================] - 0s 3ms/step - loss: 2.3712\n",
            "Epoch 66/75\n",
            "4/4 [==============================] - 0s 4ms/step - loss: 2.2662\n",
            "Epoch 67/75\n",
            "4/4 [==============================] - 0s 4ms/step - loss: 2.1659\n",
            "Epoch 68/75\n",
            "4/4 [==============================] - 0s 3ms/step - loss: 2.0279\n",
            "Epoch 69/75\n",
            "4/4 [==============================] - 0s 3ms/step - loss: 1.9362\n",
            "Epoch 70/75\n",
            "4/4 [==============================] - 0s 4ms/step - loss: 1.8562\n",
            "Epoch 71/75\n",
            "4/4 [==============================] - 0s 4ms/step - loss: 1.7493\n",
            "Epoch 72/75\n",
            "4/4 [==============================] - 0s 3ms/step - loss: 1.6961\n",
            "Epoch 73/75\n",
            "4/4 [==============================] - 0s 3ms/step - loss: 1.6130\n",
            "Epoch 74/75\n",
            "4/4 [==============================] - 0s 3ms/step - loss: 1.5751\n",
            "Epoch 75/75\n",
            "4/4 [==============================] - 0s 3ms/step - loss: 1.4998\n"
          ]
        },
        {
          "output_type": "execute_result",
          "data": {
            "text/plain": [
              "<keras.src.callbacks.History at 0x7dafdb6516c0>"
            ]
          },
          "metadata": {},
          "execution_count": 220
        }
      ]
    },
    {
      "cell_type": "code",
      "source": [
        "model.get_weights()"
      ],
      "metadata": {
        "colab": {
          "base_uri": "https://localhost:8080/"
        },
        "id": "5CHxiojeNhif",
        "outputId": "c2684ffe-3ec9-4101-e43f-9763c34de1a2"
      },
      "execution_count": 221,
      "outputs": [
        {
          "output_type": "execute_result",
          "data": {
            "text/plain": [
              "[array([[0.3738765, 0.3738765],\n",
              "        [0.3656053, 0.3656053]], dtype=float32),\n",
              " array([0.2724481, 0.2724481], dtype=float32),\n",
              " array([[0.3730357],\n",
              "        [0.3730357]], dtype=float32),\n",
              " array([0.20477416], dtype=float32)]"
            ]
          },
          "metadata": {},
          "execution_count": 221
        }
      ]
    },
    {
      "cell_type": "code",
      "source": [],
      "metadata": {
        "id": "7FYtSL6WOivV"
      },
      "execution_count": null,
      "outputs": []
    }
  ]
}